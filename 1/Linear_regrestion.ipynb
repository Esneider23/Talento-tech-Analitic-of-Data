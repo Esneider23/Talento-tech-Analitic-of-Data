{
 "cells": [
  {
   "cell_type": "code",
   "execution_count": 1,
   "metadata": {},
   "outputs": [],
   "source": [
    "# Import the library \n",
    "import numpy as np\n",
    "import pandas as pd\n",
    "import matplotlib.pyplot as plt\n",
    "from sklearn.model_selection import train_test_split\n",
    "from sklearn.linear_model import LinearRegression"
   ]
  },
  {
   "cell_type": "markdown",
   "metadata": {},
   "source": [
    "\n",
    "# when the information is not in a file"
   ]
  },
  {
   "cell_type": "code",
   "execution_count": 3,
   "metadata": {},
   "outputs": [
    {
     "name": "stdout",
     "output_type": "stream",
     "text": [
      "Predictions: [7.]\n",
      "coeficient: [1.]\n",
      "intercept: 5.0\n"
     ]
    }
   ],
   "source": [
    "# create a DataFrame\n",
    "data = {\n",
    "    'A': [1,2,3,4,5],\n",
    "    'B': [6,7,8,9,10],  \n",
    "}\n",
    "\n",
    "df = pd.DataFrame(data)\n",
    "\n",
    "# divide the dataframe in set for training and testing\n",
    "\n",
    "X_train, X_test, y_train, y_test = train_test_split(df[['A']], df['B'], test_size=0.2, random_state=42)\n",
    "\n",
    "\n",
    "# create a linear regression model\n",
    "model = LinearRegression()\n",
    "\n",
    "# train the model\n",
    "model.fit(X_train, y_train)\n",
    "\n",
    "# predict the values\n",
    "predictions = model.predict(X_test)\n",
    "\n",
    "# print the predictions\n",
    "print('Predictions:', predictions)\n",
    "print(\"coeficient:\", model.coef_)\n",
    "print(\"intercept:\", model.intercept_)"
   ]
  },
  {
   "cell_type": "markdown",
   "metadata": {},
   "source": [
    "# When the information is in a file"
   ]
  },
  {
   "cell_type": "code",
   "execution_count": 4,
   "metadata": {},
   "outputs": [
    {
     "name": "stdout",
     "output_type": "stream",
     "text": [
      "Predictions: [7.]\n",
      "coeficient: [1.]\n",
      "intercept: 5.0\n"
     ]
    }
   ],
   "source": [
    "# create a DataFrame\n",
    "df = pd.read_csv('first.csv') \n",
    "\n",
    "# divide the dataframe in set for training and testing\n",
    "\n",
    "X_train, X_test, y_train, y_test = train_test_split(df[['A']], df['B'], test_size=0.2, random_state=42)\n",
    "\n",
    "# create a linear regression model\n",
    "model = LinearRegression()\n",
    "\n",
    "# train the model\n",
    "model.fit(X_train, y_train)\n",
    "\n",
    "# predict the values\n",
    "predictions = model.predict(X_test)\n",
    "\n",
    "# print the predictions\n",
    "print('Predictions:', predictions)\n",
    "print(\"coeficient:\", model.coef_)\n",
    "print(\"intercept:\", model.intercept_)\n"
   ]
  }
 ],
 "metadata": {
  "kernelspec": {
   "display_name": ".venv",
   "language": "python",
   "name": "python3"
  },
  "language_info": {
   "codemirror_mode": {
    "name": "ipython",
    "version": 3
   },
   "file_extension": ".py",
   "mimetype": "text/x-python",
   "name": "python",
   "nbconvert_exporter": "python",
   "pygments_lexer": "ipython3",
   "version": "3.12.5"
  }
 },
 "nbformat": 4,
 "nbformat_minor": 2
}
